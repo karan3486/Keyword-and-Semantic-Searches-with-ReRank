{
 "cells": [
  {
   "cell_type": "code",
   "execution_count": 1,
   "metadata": {},
   "outputs": [],
   "source": [
    "import os\n",
    "from dotenv import load_dotenv\n",
    "import cohere\n",
    "import weaviate"
   ]
  },
  {
   "cell_type": "code",
   "execution_count": 2,
   "metadata": {},
   "outputs": [
    {
     "name": "stderr",
     "output_type": "stream",
     "text": [
      "C:\\Users\\kskar\\AppData\\Local\\Temp\\ipykernel_31132\\1706941726.py:8: DeprecationWarning: \n",
      "Python client v3 `weaviate.Client(...)` connections and methods are deprecated and will\n",
      "            be removed by 2024-11-30.\n",
      "\n",
      "            Upgrade your code to use Python client v4 `weaviate.WeaviateClient` connections and methods.\n",
      "                - For Python Client v4 usage, see: https://weaviate.io/developers/weaviate/client-libraries/python\n",
      "                - For code migration, see: https://weaviate.io/developers/weaviate/client-libraries/python/v3_v4_migration\n",
      "\n",
      "            If you have to use v3 code, install the v3 client and pin the v3 dependency in your requirements file: `weaviate-client>=3.26.7;<4.0.0`\n",
      "  client = weaviate.Client(\n",
      "d:\\SFBU\\Syllabus\\Fall\\GenAI\\rerank\\reRank\\lib\\site-packages\\weaviate\\warnings.py:186: DeprecationWarning: Dep016: Python client v3 `weaviate.Client(...)` connections and methods are deprecated and will\n",
      "            be removed by 2024-11-30.\n",
      "\n",
      "            Upgrade your code to use Python client v4 `weaviate.WeaviateClient` connections and methods.\n",
      "                - For Python Client v4 usage, see: https://weaviate.io/developers/weaviate/client-libraries/python\n",
      "                - For code migration, see: https://weaviate.io/developers/weaviate/client-libraries/python/v3_v4_migration\n",
      "\n",
      "            If you have to use v3 code, install the v3 client and pin the v3 dependency in your requirements file: `weaviate-client>=3.26.7;<4.0.0`\n",
      "  warnings.warn(\n"
     ]
    }
   ],
   "source": [
    "# Load environment variables\n",
    "load_dotenv()\n",
    "\n",
    "# Initialize Cohere and Weaviate clients\n",
    "co = cohere.Client(os.environ['COHERE_API_KEY'])\n",
    "\n",
    "auth_config = weaviate.auth.AuthApiKey(api_key=os.environ['WEAVIATE_API_KEY'])\n",
    "client = weaviate.Client(\n",
    "    url=os.environ['WEAVIATE_API_URL'],\n",
    "    auth_client_secret=auth_config,\n",
    "    additional_headers={\n",
    "        \"X-Cohere-Api-Key\": os.environ['COHERE_API_KEY'],\n",
    "    }\n",
    ")"
   ]
  },
  {
   "cell_type": "code",
   "execution_count": 1,
   "metadata": {},
   "outputs": [],
   "source": [
    "schema = {\n",
    "    \"classes\": [\n",
    "        {\n",
    "            \"class\": \"Article\",  # Class name\n",
    "            \"description\": \"A class to store articles for retrieval\",\n",
    "            \"vectorizer\": \"text2vec-cohere\",  # Cohere vectorizer\n",
    "            \"properties\": [\n",
    "                {\n",
    "                    \"name\": \"title\",\n",
    "                    \"dataType\": [\"string\"],\n",
    "                    \"description\": \"The title of the article\"\n",
    "                },\n",
    "                {\n",
    "                    \"name\": \"text\",\n",
    "                    \"dataType\": [\"text\"],\n",
    "                    \"description\": \"The unstructured content of the article\"\n",
    "                }\n",
    "            ]\n",
    "        }\n",
    "    ]\n",
    "}\n",
    "\n",
    "# Add schema to Weaviate\n",
    "\n"
   ]
  },
  {
   "cell_type": "code",
   "execution_count": null,
   "metadata": {},
   "outputs": [],
   "source": [
    "client.schema.create(schema)"
   ]
  },
  {
   "cell_type": "code",
   "execution_count": null,
   "metadata": {},
   "outputs": [],
   "source": [
    "# Example unstructured data\n",
    "articles = [\n",
    "    {\n",
    "        \"title\": \"Ottawa: The Capital of Canada\",\n",
    "        \"text\": \"Ottawa is the capital city of Canada, located in the province of Ontario.\"\n",
    "    },\n",
    "    {\n",
    "        \"title\": \"Canada Geography\",\n",
    "        \"text\": \"Canada is the second-largest country in the world by land area.\"\n",
    "    },\n",
    "    {\n",
    "        \"title\": \"History of Canada\",\n",
    "        \"text\": \"Canada has a rich history, including its indigenous peoples and colonial past.\"\n",
    "    }\n",
    "]\n",
    "\n",
    "# Insert data into Weaviate\n",
    "for article in articles:\n",
    "    client.data_object.create(\n",
    "        data_object=article,\n",
    "        class_name=\"Article\"\n",
    "    )\n"
   ]
  },
  {
   "cell_type": "code",
   "execution_count": 7,
   "metadata": {},
   "outputs": [
    {
     "name": "stdout",
     "output_type": "stream",
     "text": [
      "Result 1:\n",
      "Title: Ottawa: The Capital of Canada\n",
      "Text: Ottawa is the capital city of Canada, located in the province of Ontario.\n",
      "Result 2:\n",
      "Title: Canada Geography\n",
      "Text: Canada is the second-largest country in the world by land area.\n",
      "Result 3:\n",
      "Title: History of Canada\n",
      "Text: Canada has a rich history, including its indigenous peoples and colonial past.\n"
     ]
    }
   ],
   "source": [
    "query = \"What is the capital of Canada?\"\n",
    "\n",
    "response = client.query.get(\"Article\", [\"title\", \"text\"]) \\\n",
    "    .with_near_text({\"concepts\": [query]}) \\\n",
    "    .with_limit(3) \\\n",
    "    .do()\n",
    "\n",
    "# Display results\n",
    "for i, result in enumerate(response['data']['Get']['Article']):\n",
    "    print(f\"Result {i+1}:\")\n",
    "    print(f\"Title: {result['title']}\")\n",
    "    print(f\"Text: {result['text']}\")\n"
   ]
  },
  {
   "cell_type": "code",
   "execution_count": 8,
   "metadata": {},
   "outputs": [
    {
     "name": "stdout",
     "output_type": "stream",
     "text": [
      "Result 1:\n",
      "Title: Ottawa: The Capital of Canada\n",
      "Text: Ottawa is the capital city of Canada, located in the province of Ontario.\n",
      "Result 2:\n",
      "Title: History of Canada\n",
      "Text: Canada has a rich history, including its indigenous peoples and colonial past.\n",
      "Result 3:\n",
      "Title: Canada Geography\n",
      "Text: Canada is the second-largest country in the world by land area.\n"
     ]
    }
   ],
   "source": [
    "query = \"What is the capital of Canada?\"\n",
    "\n",
    "response = client.query.get(\"Article\", [\"title\", \"text\"]) \\\n",
    "    .with_hybrid(query=query, alpha=0.7) \\\n",
    "    .with_limit(3) \\\n",
    "    .do()\n",
    "\n",
    "# Display results\n",
    "for i, result in enumerate(response['data']['Get']['Article']):\n",
    "    print(f\"Result {i+1}:\")\n",
    "    print(f\"Title: {result['title']}\")\n",
    "    print(f\"Text: {result['text']}\")\n"
   ]
  },
  {
   "cell_type": "code",
   "execution_count": 16,
   "metadata": {},
   "outputs": [],
   "source": [
    "def rerank_results(query, results, co):\n",
    "    # Extract the text of each document for reranking\n",
    "    texts = [res.get('text', '') for res in results]  # Assuming `results` contains a list of dictionaries with a 'text' field\n",
    "\n",
    "    if not all(texts):\n",
    "        raise ValueError(\"Some documents are empty or missing text content.\")\n",
    "\n",
    "    # Call Cohere's rerank API\n",
    "    print(texts)\n",
    "    reranked = co.rerank(query=query, documents=texts, top_n=len(texts))\n",
    "\n",
    "    return reranked\n"
   ]
  },
  {
   "cell_type": "code",
   "execution_count": 17,
   "metadata": {},
   "outputs": [
    {
     "name": "stdout",
     "output_type": "stream",
     "text": [
      "['Ottawa is the capital city of Canada, located in the province of Ontario.', 'Canada is the second-largest country in the world by land area.', 'Canada has a rich history, including its indigenous peoples and colonial past.']\n"
     ]
    }
   ],
   "source": [
    "# Retrieve dense results\n",
    "response = client.query.get(\"Article\", [\"title\", \"text\"]) \\\n",
    "    .with_near_text({\"concepts\": [query]}) \\\n",
    "    .with_limit(10) \\\n",
    "    .do()\n",
    "\n",
    "# Rerank results\n",
    "dense_results = response['data']['Get']['Article']\n",
    "reranked_results = rerank_results(query, dense_results, co)\n",
    "\n",
    "\n"
   ]
  },
  {
   "cell_type": "code",
   "execution_count": 31,
   "metadata": {},
   "outputs": [],
   "source": [
    "texts = [res.get('text', '') for res in dense_results]"
   ]
  },
  {
   "cell_type": "code",
   "execution_count": 35,
   "metadata": {},
   "outputs": [
    {
     "name": "stdout",
     "output_type": "stream",
     "text": [
      "Query: What is the capital of Canada?\n",
      "Rank 1: 0 : Ottawa is the capital city of Canada, located in the province of Ontario. (Relevance Score: 0.99356186)\n",
      "Rank 2: 1 : Canada is the second-largest country in the world by land area. (Relevance Score: 0.07613248)\n",
      "Rank 3: 2 : Canada has a rich history, including its indigenous peoples and colonial past. (Relevance Score: 0.02865267)\n"
     ]
    }
   ],
   "source": [
    "# Display reranked results\n",
    "print('Query:', query)\n",
    "for i, result in enumerate(reranked_results.results):\n",
    "    print(f\"Rank {i+1}: {result.index} : {texts[i]} (Relevance Score: {result.relevance_score})\")"
   ]
  },
  {
   "cell_type": "code",
   "execution_count": null,
   "metadata": {},
   "outputs": [
    {
     "ename": "AttributeError",
     "evalue": "'GetBuilder' object has no attribute 'with_search'",
     "output_type": "error",
     "traceback": [
      "\u001b[1;31m---------------------------------------------------------------------------\u001b[0m",
      "\u001b[1;31mAttributeError\u001b[0m                            Traceback (most recent call last)",
      "Cell \u001b[1;32mIn[37], line 4\u001b[0m\n\u001b[0;32m      1\u001b[0m query \u001b[38;5;241m=\u001b[39m \u001b[38;5;124m\"\u001b[39m\u001b[38;5;124mcapital of Canada\u001b[39m\u001b[38;5;124m\"\u001b[39m\n\u001b[0;32m      3\u001b[0m response \u001b[38;5;241m=\u001b[39m \u001b[43mclient\u001b[49m\u001b[38;5;241;43m.\u001b[39;49m\u001b[43mquery\u001b[49m\u001b[38;5;241;43m.\u001b[39;49m\u001b[43mget\u001b[49m\u001b[43m(\u001b[49m\u001b[38;5;124;43m\"\u001b[39;49m\u001b[38;5;124;43mArticle\u001b[39;49m\u001b[38;5;124;43m\"\u001b[39;49m\u001b[43m,\u001b[49m\u001b[43m \u001b[49m\u001b[43m[\u001b[49m\u001b[38;5;124;43m\"\u001b[39;49m\u001b[38;5;124;43mtitle\u001b[39;49m\u001b[38;5;124;43m\"\u001b[39;49m\u001b[43m,\u001b[49m\u001b[43m \u001b[49m\u001b[38;5;124;43m\"\u001b[39;49m\u001b[38;5;124;43mtext\u001b[39;49m\u001b[38;5;124;43m\"\u001b[39;49m\u001b[43m]\u001b[49m\u001b[43m)\u001b[49m\u001b[43m \u001b[49m\u001b[43m\\\u001b[49m\n\u001b[1;32m----> 4\u001b[0m \u001b[43m    \u001b[49m\u001b[38;5;241;43m.\u001b[39;49m\u001b[43mwith_search\u001b[49m(query\u001b[38;5;241m=\u001b[39mquery) \\\n\u001b[0;32m      5\u001b[0m     \u001b[38;5;241m.\u001b[39mwith_limit(\u001b[38;5;241m3\u001b[39m) \\\n\u001b[0;32m      6\u001b[0m     \u001b[38;5;241m.\u001b[39mdo()\n\u001b[0;32m      8\u001b[0m \u001b[38;5;66;03m# Display sparse retrieval results\u001b[39;00m\n\u001b[0;32m      9\u001b[0m \u001b[38;5;28;01mfor\u001b[39;00m i, result \u001b[38;5;129;01min\u001b[39;00m \u001b[38;5;28menumerate\u001b[39m(response[\u001b[38;5;124m'\u001b[39m\u001b[38;5;124mdata\u001b[39m\u001b[38;5;124m'\u001b[39m][\u001b[38;5;124m'\u001b[39m\u001b[38;5;124mGet\u001b[39m\u001b[38;5;124m'\u001b[39m][\u001b[38;5;124m'\u001b[39m\u001b[38;5;124mArticle\u001b[39m\u001b[38;5;124m'\u001b[39m]):\n",
      "\u001b[1;31mAttributeError\u001b[0m: 'GetBuilder' object has no attribute 'with_search'"
     ]
    }
   ],
   "source": [
    "query = \"capital of Canada\"\n",
    "\n",
    "response = client.query.get(\"Article\", [\"title\", \"text\"]).   with_search(query=query) \\\n",
    "    .with_limit(3) \\\n",
    "    .do()\n",
    "\n",
    "# Display sparse retrieval results\n",
    "for i, result in enumerate(response['data']['Get']['Article']):\n",
    "    print(f\"Result {i+1}:\")\n",
    "    print(f\"Title: {result['title']}\")\n",
    "    print(f\"Text: {result['text']}\")\n"
   ]
  },
  {
   "cell_type": "code",
   "execution_count": null,
   "metadata": {},
   "outputs": [],
   "source": []
  }
 ],
 "metadata": {
  "kernelspec": {
   "display_name": "Python 3",
   "language": "python",
   "name": "python3"
  },
  "language_info": {
   "codemirror_mode": {
    "name": "ipython",
    "version": 3
   },
   "file_extension": ".py",
   "mimetype": "text/x-python",
   "name": "python",
   "nbconvert_exporter": "python",
   "pygments_lexer": "ipython3",
   "version": "3.10.0"
  }
 },
 "nbformat": 4,
 "nbformat_minor": 2
}
